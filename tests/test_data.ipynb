{
 "cells": [
  {
   "cell_type": "code",
   "execution_count": 2,
   "metadata": {},
   "outputs": [],
   "source": [
    "import pickle\n",
    "data_file_path = '/dev_data/wlh/stock-baselines/datasets/PEMS03/data_in12_out12.pkl'\n",
    "index_file_path = '/dev_data/wlh/stock-baselines/datasets/PEMS03/index_in12_out12.pkl'\n",
    "\n",
    "def load_pkl(pickle_file: str) -> object:\n",
    "    \"\"\"Load pickle data.\n",
    "\n",
    "    Args:\n",
    "        pickle_file (str): file path\n",
    "\n",
    "    Returns:\n",
    "        object: loaded objected\n",
    "    \"\"\"\n",
    "\n",
    "    try:\n",
    "        with open(pickle_file, \"rb\") as f:\n",
    "            pickle_data = pickle.load(f)\n",
    "    except UnicodeDecodeError:\n",
    "        with open(pickle_file, \"rb\") as f:\n",
    "            pickle_data = pickle.load(f, encoding=\"latin1\")\n",
    "    except Exception as e:\n",
    "        print(\"Unable to load data \", pickle_file, \":\", e)\n",
    "        raise\n",
    "    return pickle_data\n",
    "\n",
    "\n",
    "data = load_pkl(data_file_path)\n",
    "index = load_pkl(index_file_path)"
   ]
  },
  {
   "cell_type": "code",
   "execution_count": 13,
   "metadata": {},
   "outputs": [
    {
     "name": "stdout",
     "output_type": "stream",
     "text": [
      "<class 'dict'>\n",
      "<class 'dict'>\n",
      "dict_keys(['processed_data'])\n",
      "dict_keys(['train', 'valid', 'test'])\n",
      "<class 'numpy.ndarray'>\n",
      "(26208, 358, 3)\n",
      "(0, 12, 24)\n",
      "(15711, 15723, 15735)\n",
      "(20948, 20960, 20972)\n"
     ]
    }
   ],
   "source": [
    "print(type(data))\n",
    "print(type(index))\n",
    "\n",
    "print(data.keys())\n",
    "print(index.keys())\n",
    "\n",
    "print(type(data['processed_data']))\n",
    "print(data['processed_data'].shape)\n",
    "#print(data['processed_data'][0])\n",
    "\n",
    "print(index['train'][0])\n",
    "print(index['valid'][0])\n",
    "print(index['test'][0]) # (-12, 0, 12) 过去窗口和预测窗口"
   ]
  }
 ],
 "metadata": {
  "kernelspec": {
   "display_name": "STID",
   "language": "python",
   "name": "python3"
  },
  "language_info": {
   "codemirror_mode": {
    "name": "ipython",
    "version": 3
   },
   "file_extension": ".py",
   "mimetype": "text/x-python",
   "name": "python",
   "nbconvert_exporter": "python",
   "pygments_lexer": "ipython3",
   "version": "3.9.0"
  },
  "orig_nbformat": 4
 },
 "nbformat": 4,
 "nbformat_minor": 2
}
